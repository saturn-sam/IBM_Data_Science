{
 "cells": [
  {
   "cell_type": "markdown",
   "id": "1e6ad7a5-5444-41e7-83b7-c1fc2d52cd72",
   "metadata": {},
   "source": [
    "df.describe()"
   ]
  },
  {
   "cell_type": "code",
   "execution_count": null,
   "id": "b6125dc7-9567-4966-950b-47a805851af3",
   "metadata": {},
   "outputs": [],
   "source": [
    "df.describe(include='all')"
   ]
  },
  {
   "cell_type": "code",
   "execution_count": null,
   "id": "c3aaf3ba-1785-4c3a-9839-d1978ff31923",
   "metadata": {},
   "outputs": [],
   "source": [
    "df.info()"
   ]
  },
  {
   "cell_type": "markdown",
   "id": "5c187169-aa20-4ad3-98eb-b75340c8b85c",
   "metadata": {},
   "source": [
    "How to deal with missing values\n",
    "\n",
    "- Drop The missing value\n",
    "  1. drop the variable\n",
    "  2. drop the data entry\n",
    "- Replace the missing values\n",
    "  1. replace it with average\n",
    "  2. replace with freequence\n",
    "  3. replace by other function"
   ]
  },
  {
   "cell_type": "raw",
   "id": "f11b3113-2e05-43b3-89ca-ae80a0f9f4cb",
   "metadata": {},
   "source": [
    "Drop missing values\n",
    "------------------\n",
    "dataframes.dropna()\n",
    "    axis = 0 drop the entire row\n",
    "    axis = 1 drop the entire column\n",
    "\n",
    "df.dropna(subset['price'], axis=0, inplace = True)\n",
    "equivalent to\n",
    "df = df.dropna(subset['price'], axis=0)\n",
    "\n",
    "\n",
    "mean = df['column_name'].mean()\n",
    "df['column_name'].replace(np.nan,mean)\n"
   ]
  },
  {
   "cell_type": "raw",
   "id": "b3ca99a3-e02a-45d5-adad-28e57815afda",
   "metadata": {},
   "source": [
    "\n",
    "Data Formatting\n",
    "------------------\n",
    "df.dtype() identify data type\n",
    "\n",
    "df.astype() convert data type\n",
    "df[\"price\"] = df[\"price\"].astype(\"int\")"
   ]
  },
  {
   "cell_type": "raw",
   "id": "0a76e87d-d820-4afa-9d7c-a524f282b4ae",
   "metadata": {},
   "source": [
    "Normalization\n",
    "1. Simple feature scaling\n",
    "    x_new = x_old/x_max\n",
    "2. min-max\n",
    "    x_new = (x_old-x_min)/(x_max-x_min)\n",
    "3. z-score\n",
    "    x_new = (x_old-mu)/sigma"
   ]
  },
  {
   "cell_type": "raw",
   "id": "573fa478-98b2-47a1-8ca3-1b0aa1bdb3dc",
   "metadata": {},
   "source": [
    "Binning\n",
    "-------------------\n",
    "bins = np.linspace(min(df[\"price\"]), max(df[\"price\"]), 4)\n",
    "group_names = [\"Low\", \"Medium\", \"High\"]\n",
    "price['price-binned'] = pd.cut(df[\"price\"], bins, labels=group_names, include_lowest=True)"
   ]
  },
  {
   "cell_type": "code",
   "execution_count": null,
   "id": "2a73a926-5e09-485d-b0dc-f61703ac3761",
   "metadata": {},
   "outputs": [],
   "source": []
  },
  {
   "cell_type": "code",
   "execution_count": null,
   "id": "ee1f5f89-4cbb-4804-aa39-a4e9346f4783",
   "metadata": {},
   "outputs": [],
   "source": []
  },
  {
   "cell_type": "code",
   "execution_count": null,
   "id": "6576bbe9-6341-47c2-9d32-c686d39c2864",
   "metadata": {},
   "outputs": [],
   "source": []
  },
  {
   "cell_type": "code",
   "execution_count": null,
   "id": "767c265e-5716-406a-8376-82f276a0419e",
   "metadata": {},
   "outputs": [],
   "source": []
  },
  {
   "cell_type": "code",
   "execution_count": null,
   "id": "6a1014c9-c814-4d95-b5e3-2df9b054fb13",
   "metadata": {},
   "outputs": [],
   "source": []
  }
 ],
 "metadata": {
  "kernelspec": {
   "display_name": "Python 3 (ipykernel)",
   "language": "python",
   "name": "python3"
  },
  "language_info": {
   "codemirror_mode": {
    "name": "ipython",
    "version": 3
   },
   "file_extension": ".py",
   "mimetype": "text/x-python",
   "name": "python",
   "nbconvert_exporter": "python",
   "pygments_lexer": "ipython3",
   "version": "3.11.4"
  }
 },
 "nbformat": 4,
 "nbformat_minor": 5
}
